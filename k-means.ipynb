{
 "cells": [
  {
   "cell_type": "code",
   "execution_count": 1,
   "id": "51c05d35",
   "metadata": {},
   "outputs": [],
   "source": [
    "# X: 샘플 집합, k: 클러스터 개수, Z: 클러스터 중심 집합, A: 샘플의 클러스터 배정 정보를 나타내는 행렬, C: 클러스터 집합"
   ]
  },
  {
   "cell_type": "code",
   "execution_count": 2,
   "id": "0951c4c0",
   "metadata": {},
   "outputs": [],
   "source": [
    "def calc_dist(x, z):\n",
    "    if len(x) == len(z):\n",
    "        n = len(x) # or len(z)\n",
    "        sum = 0 \n",
    "        \n",
    "        for i in range(n):\n",
    "            sum += (x[i]-z[i])**2\n",
    "        \n",
    "        dist = sum**(1/2)\n",
    "\n",
    "        return dist"
   ]
  },
  {
   "cell_type": "code",
   "execution_count": 3,
   "id": "13feec99",
   "metadata": {},
   "outputs": [],
   "source": [
    "import random\n",
    "\n",
    "def init_centroid(X, k): # 샘플로부터 클러스터 중심 k개를 추출하여 클러스터의 초기 중심 Z 설정, 그에 따른 A 업데이트\n",
    "    Z = []\n",
    "    A = [[0 for row in range(k)] for col in range(len(X))]\n",
    "    indices = []\n",
    "    \n",
    "    for i in range(len(X)):\n",
    "        idx = random.randint(0, len(X)-1)\n",
    "        \n",
    "        while idx in indices:\n",
    "            idx = random.randint(0, len(X)-1)\n",
    "            \n",
    "        indices.append(idx)\n",
    "    \n",
    "    count = 0\n",
    "    \n",
    "    for i in indices:\n",
    "        Z.append(X[i])\n",
    "        \n",
    "        if count < k:\n",
    "            A[i][count] = 1\n",
    "            count += 1\n",
    "        \n",
    "    return Z, A"
   ]
  },
  {
   "cell_type": "code",
   "execution_count": 4,
   "id": "4eb33728",
   "metadata": {},
   "outputs": [],
   "source": [
    "def update_centroid(X, A, Z): # zj에 배정된 샘플 평균으로 zj를 업데이트\n",
    "    for j in range(len(A[0])):\n",
    "        n = 0 # n: zj에 배정된 샘플의 개수\n",
    "        sum = [0] * len(X[0]) # sum: zj에 속하는 샘플의 합\n",
    "        \n",
    "        for i in range(len(X)):\n",
    "            if A[i][j] == 1:\n",
    "                for k in range(len(X[0])):\n",
    "                    sum[k] += X[i][k]\n",
    "                    n += 1\n",
    "\n",
    "        if n != 0: # zj에 배정된 샘플의 개수가 0이 아닐 때\n",
    "            centroid = []\n",
    "\n",
    "            for s in sum:\n",
    "                mean = s / n\n",
    "                centroid.append(mean)\n",
    "                \n",
    "            Z[j] = centroid\n",
    "                \n",
    "    return Z"
   ]
  },
  {
   "cell_type": "code",
   "execution_count": 5,
   "id": "06c907e2",
   "metadata": {},
   "outputs": [],
   "source": [
    "import copy\n",
    "import math\n",
    "\n",
    "def kmeans(X, k):\n",
    "    Z, A = init_centroid(X, k)\n",
    "    n = len(X)\n",
    "    \n",
    "    while True:\n",
    "        prev_A = copy.deepcopy(A)\n",
    "        \n",
    "        for i in range(n):\n",
    "            m = math.inf\n",
    "            for j in range(k): # xi와 가장 가까운 클러스터 중심을 찾는다. \n",
    "                if calc_dist(X[i], Z[j]) < m:\n",
    "                    m = calc_dist(X[i], Z[j])\n",
    "                    A[i] = [0] * k # A i행 초기화\n",
    "                    A[i][j] = 1 # A i행 업데이트\n",
    "                    \n",
    "        if prev_A == A: # A가 이전 루프에서의 A와 같으면\n",
    "            a = [0] * k # 클러스터 개수가 k개인지 A의 열의 합으로 확인   \n",
    "            \n",
    "            for j in range(k):\n",
    "                for i in range(n):\n",
    "                    a[j] += A[i][j]\n",
    "                    \n",
    "            if 0 not in a: # A에 열의 합이 0인 열이 없다면 루프 종료\n",
    "                break\n",
    "                \n",
    "        Z = update_centroid(X, A, Z)\n",
    "        \n",
    "    C = {}\n",
    "    \n",
    "    for j in range(k):\n",
    "        C[j] = []\n",
    "    \n",
    "    for j in range(k):\n",
    "        for i in range(n):\n",
    "            if A[i][j] == 1:\n",
    "                C[j].append(X[i])\n",
    "                \n",
    "    return C"
   ]
  },
  {
   "cell_type": "code",
   "execution_count": 6,
   "id": "36f2aefa",
   "metadata": {},
   "outputs": [],
   "source": [
    "# 실제 데이터 적용(blobs)\n",
    "from sklearn.datasets import make_blobs\n",
    "\n",
    "import matplotlib.pyplot as plt\n",
    "import numpy as np"
   ]
  },
  {
   "cell_type": "code",
   "execution_count": 7,
   "id": "7580331e",
   "metadata": {},
   "outputs": [
    {
     "data": {
      "image/png": "[encoded data removed]",
      "text/plain": [
       "<Figure size 432x288 with 1 Axes>"
      ]
     },
     "metadata": {
      "needs_background": "light"
     },
     "output_type": "display_data"
    }
   ],
   "source": [
    "# k = 2일 때\n",
    "X, y = make_blobs(n_samples=150, n_features=6, centers=2, cluster_std=0.5)\n",
    "\n",
    "plt.figure()\n",
    "plt.scatter(X[:, 0], X[:, 1], c='black', marker='o')\n",
    "plt.show()"
   ]
  },
  {
   "cell_type": "code",
   "execution_count": 8,
   "id": "ccd5e643",
   "metadata": {},
   "outputs": [
    {
     "name": "stdout",
     "output_type": "stream",
     "text": [
      "\n",
      " 0.0106 sec.\n"
     ]
    }
   ],
   "source": [
    "import time\n",
    "\n",
    "start_time = time.time()\n",
    "y = kmeans(X, 2)\n",
    "print(\"\\n %.4f sec.\" % (time.time() - start_time))"
   ]
  },
  {
   "cell_type": "code",
   "execution_count": 9,
   "id": "140b549d",
   "metadata": {},
   "outputs": [
    {
     "data": {
      "image/png": "[encoded data removed]",
      "text/plain": [
       "<Figure size 432x288 with 1 Axes>"
      ]
     },
     "metadata": {
      "needs_background": "light"
     },
     "output_type": "display_data"
    }
   ],
   "source": [
    "X_0 = np.array(y[0])\n",
    "X_1 = np.array(y[1])\n",
    "\n",
    "plt.figure()\n",
    "plt.scatter(X_0[:, 0], X_0[:, 1], c='green', marker='o', label='cluster 0')\n",
    "plt.scatter(X_1[:, 0], X_1[:, 1], c='blue', marker='o', label='cluster 0')\n",
    "plt.show()"
   ]
  },
  {
   "cell_type": "code",
   "execution_count": 10,
   "id": "e91111fd",
   "metadata": {},
   "outputs": [
    {
     "data": {
      "image/png": "[encoded data removed]",
      "text/plain": [
       "<Figure size 432x288 with 1 Axes>"
      ]
     },
     "metadata": {
      "needs_background": "light"
     },
     "output_type": "display_data"
    }
   ],
   "source": [
    "# k = 3일 때\n",
    "X, y = make_blobs(n_samples=150, n_features=6, centers=3, cluster_std=0.5)\n",
    "\n",
    "plt.figure()\n",
    "plt.scatter(X[:, 0], X[:, 1], c='black', marker='o')\n",
    "plt.show()"
   ]
  },
  {
   "cell_type": "code",
   "execution_count": 11,
   "id": "705922af",
   "metadata": {
    "scrolled": true
   },
   "outputs": [
    {
     "name": "stdout",
     "output_type": "stream",
     "text": [
      "\n",
      " 0.0162 sec.\n"
     ]
    }
   ],
   "source": [
    "start_time = time.time()\n",
    "y = kmeans(X, 3)\n",
    "print(\"\\n %.4f sec.\" % (time.time() - start_time))"
   ]
  },
  {
   "cell_type": "code",
   "execution_count": 12,
   "id": "c8a32f78",
   "metadata": {},
   "outputs": [
    {
     "data": {
      "image/png": "[encoded data removed]",
      "text/plain": [
       "<Figure size 432x288 with 1 Axes>"
      ]
     },
     "metadata": {
      "needs_background": "light"
     },
     "output_type": "display_data"
    }
   ],
   "source": [
    "X_0 = np.array(y[0])\n",
    "X_1 = np.array(y[1])\n",
    "X_2 = np.array(y[2])\n",
    "\n",
    "plt.figure()\n",
    "plt.scatter(X_0[:, 0], X_0[:, 1], c='green', marker='o', label='cluster 0')\n",
    "plt.scatter(X_1[:, 0], X_1[:, 1], c='blue', marker='o', label='cluster 0')\n",
    "plt.scatter(X_2[:, 0], X_2[:, 1], c='orange', marker='o', label='cluster 0')\n",
    "plt.show()"
   ]
  }
 ],
 "metadata": {
  "kernelspec": {
   "display_name": "Python 3 (ipykernel)",
   "language": "python",
   "name": "python3"
  },
  "language_info": {
   "codemirror_mode": {
    "name": "ipython",
    "version": 3
   },
   "file_extension": ".py",
   "mimetype": "text/x-python",
   "name": "python",
   "nbconvert_exporter": "python",
   "pygments_lexer": "ipython3",
   "version": "3.9.7"
  }
 },
 "nbformat": 4,
 "nbformat_minor": 5
}
